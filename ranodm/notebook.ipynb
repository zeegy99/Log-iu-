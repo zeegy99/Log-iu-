{
 "cells": [
  {
   "cell_type": "code",
   "execution_count": null,
   "metadata": {},
   "outputs": [],
   "source": [
    "from tester import *\n",
    "import matplotlib.pyplot as plt\n",
    "\n",
    "# Run simulations and store results\n",
    "values = []\n",
    "for i in range(100):\n",
    "    values.append(main(15))\n",
    "\n",
    "# Unpacking the values from the last trial\n",
    "G, pos, labels, longest_times = values[-1]  # Use the last trial\n",
    "\n",
    "# Extract the final reproduction time from the longest_times list\n",
    "final_reproduction_time = longest_times[-1]\n",
    "\n",
    "# Create bins ranging from 0 to final_reproduction_time with a step of 0.1\n",
    "bins = [round(x * 0.1, 2) for x in range(int(final_reproduction_time * 10) + 1)]\n",
    "\n",
    "# Count frequencies\n",
    "frequency = [0] * (len(bins) - 1)  # Adjust length to bins - 1\n",
    "\n",
    "# Populate frequency counts\n",
    "for time in longest_times:\n",
    "    for j in range(len(bins) - 1):  # Iterate over bins\n",
    "        if bins[j] <= time < bins[j + 1]:\n",
    "            frequency[j] += 1\n",
    "            break\n",
    "\n",
    "# Plotting the histogram\n",
    "plt.figure(figsize=(10, 6))\n",
    "plt.bar(bins[:-1], frequency, width=0.1, align='edge', color='lightblue', edgecolor='black')\n",
    "plt.xlabel('Time of Creation')\n",
    "plt.ylabel('Frequency')\n",
    "plt.title('Histogram of Final Node Spawn Times (Final Trial)')\n",
    "plt.xticks(bins, rotation=45)  # Rotate x-axis labels for better visibility\n",
    "plt.grid(axis='y')\n",
    "plt.show()\n"
   ]
  },
  {
   "cell_type": "code",
   "execution_count": null,
   "metadata": {},
   "outputs": [],
   "source": []
  }
 ],
 "metadata": {
  "language_info": {
   "name": "python"
  }
 },
 "nbformat": 4,
 "nbformat_minor": 2
}
